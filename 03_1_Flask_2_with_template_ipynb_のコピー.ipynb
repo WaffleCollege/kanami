{
  "cells": [
    {
      "cell_type": "markdown",
      "metadata": {
        "id": "view-in-github",
        "colab_type": "text"
      },
      "source": [
        "<a href=\"https://colab.research.google.com/github/WaffleCollege/kanami/blob/main/03_1_Flask_2_with_template_ipynb_%E3%81%AE%E3%82%B3%E3%83%94%E3%83%BC.ipynb\" target=\"_parent\"><img src=\"https://colab.research.google.com/assets/colab-badge.svg\" alt=\"Open In Colab\"/></a>"
      ]
    },
    {
      "cell_type": "markdown",
      "metadata": {
        "id": "LqahVFAAdpcu"
      },
      "source": [
        "# 1.[事前準備]前回の内容\n",
        "\n",
        "1.  必要な道具を揃える\n",
        "2.  設定\n",
        "3.  Flaskの枠組みに沿ってアプリのプログラムを書く\n"
      ]
    },
    {
      "cell_type": "code",
      "execution_count": 29,
      "metadata": {
        "id": "Z8JSlTakoMbi",
        "colab": {
          "base_uri": "https://localhost:8080/"
        },
        "outputId": "e52094b3-d656-47a5-8b43-1e82f4e0bcc3"
      },
      "outputs": [
        {
          "output_type": "stream",
          "name": "stdout",
          "text": [
            "Requirement already satisfied: flask in /usr/local/lib/python3.10/dist-packages (2.2.5)\n",
            "Requirement already satisfied: pyngrok in /usr/local/lib/python3.10/dist-packages (7.2.0)\n",
            "Requirement already satisfied: Werkzeug>=2.2.2 in /usr/local/lib/python3.10/dist-packages (from flask) (3.0.4)\n",
            "Requirement already satisfied: Jinja2>=3.0 in /usr/local/lib/python3.10/dist-packages (from flask) (3.1.4)\n",
            "Requirement already satisfied: itsdangerous>=2.0 in /usr/local/lib/python3.10/dist-packages (from flask) (2.2.0)\n",
            "Requirement already satisfied: click>=8.0 in /usr/local/lib/python3.10/dist-packages (from flask) (8.1.7)\n",
            "Requirement already satisfied: PyYAML>=5.1 in /usr/local/lib/python3.10/dist-packages (from pyngrok) (6.0.2)\n",
            "Requirement already satisfied: MarkupSafe>=2.0 in /usr/local/lib/python3.10/dist-packages (from Jinja2>=3.0->flask) (2.1.5)\n"
          ]
        }
      ],
      "source": [
        "#@title 前回の内容を実行\n",
        "# 1,2 Flask, pyngrokのインストール\n",
        "!pip install flask pyngrok\n",
        "#  必要なモジュールのimport\n",
        "import os\n",
        "# flaskからFlaskクラスをインポート\n",
        "from flask import Flask\n",
        "# pyngrokからngrokモジュールとconfモジュールをインポート\n",
        "from pyngrok import ngrok, conf\n",
        "# 設定\n",
        "\n"
      ]
    },
    {
      "cell_type": "code",
      "source": [
        "conf.get_default().auth_token = \"\""
      ],
      "metadata": {
        "id": "fd1VBOYoUmqY"
      },
      "execution_count": 30,
      "outputs": []
    },
    {
      "cell_type": "code",
      "execution_count": 31,
      "metadata": {
        "id": "fYERL5t3w5Xt",
        "colab": {
          "base_uri": "https://localhost:8080/"
        },
        "outputId": "08c52861-b9af-484b-c6d0-ca1204e465d8"
      },
      "outputs": [
        {
          "output_type": "stream",
          "name": "stdout",
          "text": [
            "Drive already mounted at /content/drive; to attempt to forcibly remount, call drive.mount(\"/content/drive\", force_remount=True).\n"
          ]
        }
      ],
      "source": [
        "from google.colab import drive\n",
        "drive.mount('/content/drive')"
      ]
    },
    {
      "cell_type": "code",
      "execution_count": null,
      "metadata": {
        "id": "jrDacPVXrHdn"
      },
      "outputs": [],
      "source": []
    },
    {
      "cell_type": "code",
      "execution_count": null,
      "metadata": {
        "id": "w59CdB07rHrD"
      },
      "outputs": [],
      "source": []
    },
    {
      "cell_type": "markdown",
      "metadata": {
        "id": "DXLbLjWgI9EH"
      },
      "source": []
    },
    {
      "cell_type": "markdown",
      "metadata": {
        "id": "68KShRz6T9xs"
      },
      "source": [
        "（home.htmlのコピペ元）\n",
        "\n",
        "\n",
        "```\n",
        "<!DOCTYPE html>\n",
        "<html>\n",
        "  <link rel=\"stylesheet\" href=\"{{ url_for('static', filename='css/style.css')}}\">\n",
        "<head>\n",
        "</head>\n",
        "<body>\n",
        "    <header>\n",
        "      <h1>ミニブログをつくってみよう !</h1>\n",
        "    </header>\n",
        "    <p>Let's begin !</p>\n",
        "</body>\n",
        "</html>\n",
        "```\n",
        "\n",
        "（style.cssのコピペ元）\n",
        "\n",
        "\n",
        "```\n",
        "body {\n",
        "    background-color: #f0f0f0;\n",
        "    font-family: Arial, sans-serif;\n",
        "    margin: 0;\n",
        "    padding: 0;\n",
        "}\n",
        "\n",
        "header {\n",
        "    background-color: #333;\n",
        "    color: #fff;\n",
        "    padding: 10px 0;\n",
        "    text-align: center;\n",
        "}\n",
        "```\n",
        "\n"
      ]
    },
    {
      "cell_type": "markdown",
      "metadata": {
        "id": "msMWsUx5noc9"
      },
      "source": [
        "# 2. テンプレートを追加する [環境準備]"
      ]
    },
    {
      "cell_type": "code",
      "execution_count": 32,
      "metadata": {
        "colab": {
          "base_uri": "https://localhost:8080/"
        },
        "id": "3sw762nAXj-M",
        "outputId": "7e3d91b0-5b62-4971-98fd-a3b7f5b19b44"
      },
      "outputs": [
        {
          "output_type": "stream",
          "name": "stdout",
          "text": [
            "Drive already mounted at /content/drive; to attempt to forcibly remount, call drive.mount(\"/content/drive\", force_remount=True).\n"
          ]
        }
      ],
      "source": [
        "# @title 2-a ノートブックからGoogleドライブを参照できるようにする（マウント）\n",
        "from google.colab import drive\n",
        "drive.mount('/content/drive')"
      ]
    },
    {
      "cell_type": "markdown",
      "metadata": {
        "id": "h4hqlRcIm_7V"
      },
      "source": []
    },
    {
      "cell_type": "markdown",
      "metadata": {
        "id": "sGqmSjreNpO8"
      },
      "source": [
        "# 3. 追加したテンプレートを呼び出す設定にする [アプリのプログラミング]\n"
      ]
    },
    {
      "cell_type": "code",
      "execution_count": 36,
      "metadata": {
        "id": "C1jd2YAZN7F2"
      },
      "outputs": [],
      "source": [
        "# @title フレームワークに自分のアプリのためのプログラムを追加する\n",
        "from flask import Flask, render_template\n",
        "\n",
        "# テンプレートと静的ファイルの置き場所を定数に代入\n",
        "TEMPLATE_PATH = 'drive/My Drive/flask_blog/templates'\n",
        "STATIC_PATH = 'drive/My Drive/flask_blog/static'\n",
        "# Flaskのインスタンスを作るときにそれを利用してファイルパスを設定する\n",
        "app = Flask(__name__, template_folder=TEMPLATE_PATH, static_folder=STATIC_PATH)\n",
        "# /（ルート）にアクセスしたら次に書く関数(hello_world)を実行するという宣言\n",
        "@app.route(\"/\")\n",
        "def home():\n",
        "    return render_template('home.html')\n",
        "\n"
      ]
    },
    {
      "cell_type": "markdown",
      "metadata": {
        "id": "ztZFlDQ7POPL"
      },
      "source": [
        "# 4.プログラムを実行してアプリを立ち上げる[実行]"
      ]
    },
    {
      "cell_type": "code",
      "execution_count": 37,
      "metadata": {
        "colab": {
          "base_uri": "https://localhost:8080/"
        },
        "id": "T4UiEnkIbCYM",
        "outputId": "117046a8-52ea-41e3-a472-43310782b4cd"
      },
      "outputs": [
        {
          "output_type": "stream",
          "name": "stdout",
          "text": [
            "ngrok URL: NgrokTunnel: \"https://00a2-35-221-163-70.ngrok-free.app\" -> \"http://localhost:5000\"\n",
            " * Serving Flask app '__main__'\n",
            " * Debug mode: off\n"
          ]
        },
        {
          "output_type": "stream",
          "name": "stderr",
          "text": [
            "INFO:werkzeug:\u001b[31m\u001b[1mWARNING: This is a development server. Do not use it in a production deployment. Use a production WSGI server instead.\u001b[0m\n",
            " * Running on http://127.0.0.1:5000\n",
            "INFO:werkzeug:\u001b[33mPress CTRL+C to quit\u001b[0m\n",
            "INFO:werkzeug:127.0.0.1 - - [23/Sep/2024 10:04:53] \"GET / HTTP/1.1\" 200 -\n",
            "INFO:werkzeug:127.0.0.1 - - [23/Sep/2024 10:04:54] \"GET /static/css/style.css HTTP/1.1\" 200 -\n",
            "INFO:werkzeug:127.0.0.1 - - [23/Sep/2024 10:04:55] \"\u001b[33mGET /favicon.ico HTTP/1.1\u001b[0m\" 404 -\n",
            "WARNING:pyngrok.process.ngrok:t=2024-09-23T10:07:55+0000 lvl=warn msg=\"Stopping forwarder\" name=http-5000-16a135ee-1eed-40c8-8866-d99ba0f1ae18 acceptErr=\"failed to accept connection: Listener closed\"\n"
          ]
        }
      ],
      "source": [
        "# @title ngrokにトンネルを繋いでアプリを起動する\n",
        "if __name__ == \"__main__\":\n",
        "    public_url = ngrok.connect(5000) #ngrokのトンネルを繋ぐ\n",
        "    print(f\"ngrok URL: {public_url}\")\n",
        "    app.run(port=5000) # 5000番ポートでアプリを起動"
      ]
    }
  ],
  "metadata": {
    "colab": {
      "provenance": [],
      "include_colab_link": true
    },
    "kernelspec": {
      "display_name": "Python 3",
      "name": "python3"
    },
    "language_info": {
      "name": "python"
    }
  },
  "nbformat": 4,
  "nbformat_minor": 0
}